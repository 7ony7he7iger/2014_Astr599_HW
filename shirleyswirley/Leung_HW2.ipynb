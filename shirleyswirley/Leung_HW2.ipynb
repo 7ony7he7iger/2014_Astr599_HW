{
 "metadata": {
  "name": "",
  "signature": "sha256:190c08960064f668cf3dc640efee97d355afc3cb827f06659ca29538d2affb81"
 },
 "nbformat": 3,
 "nbformat_minor": 0,
 "worksheets": [
  {
   "cells": [
    {
     "cell_type": "code",
     "collapsed": false,
     "input": [
      "%matplotlib inline\n",
      "import matplotlib.pyplot as plt\n",
      "import numpy as np\n",
      "\n",
      "def func(x):\n",
      "    return np.sin(x)"
     ],
     "language": "python",
     "metadata": {},
     "outputs": []
    },
    {
     "cell_type": "code",
     "collapsed": false,
     "input": [
      "class Integrator(object):\n",
      "    def __init__(self, a, b, n):\n",
      "        self.a, self.b, self.n = a, b, n\n",
      "        self.points, self.weights = self.method()\n",
      "        \n",
      "    def method(self):\n",
      "        raise NotImplementedError('no rule in class %s' %self.__class__.__name__)\n",
      "        \n",
      "    def integrate(self,func):\n",
      "        return np.multiply(self.weights,func(self.points)).cumsum()"
     ],
     "language": "python",
     "metadata": {},
     "outputs": []
    },
    {
     "cell_type": "code",
     "collapsed": false,
     "input": [
      "class Trapezoidal(Integrator):\n",
      "    def __init__(self,*args):\n",
      "        super(Trapezoidal, self).__init__(*args)\n",
      "\n",
      "    def method(self):\n",
      "        x = a/2\n",
      "        x = np.append(x,np.arange(a+(b-a)/n,b-(b-a)/n,(b-a)/n))\n",
      "        x = np.append(x,b/2)\n",
      "        w = (b-a)/n\n",
      "        return (x,w)"
     ],
     "language": "python",
     "metadata": {},
     "outputs": []
    },
    {
     "cell_type": "code",
     "collapsed": false,
     "input": [
      "# Make sure points for trapezoidal rule are what I want\n",
      "a=1.\n",
      "b=9.\n",
      "n=4.\n",
      "x = a/2\n",
      "x = np.append(x,np.arange(a+(b-a)/n,b-(b-a)/n,(b-a)/n))\n",
      "x = np.append(x,b/2)\n",
      "print x"
     ],
     "language": "python",
     "metadata": {},
     "outputs": []
    },
    {
     "cell_type": "code",
     "collapsed": false,
     "input": [
      "class Midpoint(Integrator):\n",
      "    def __init__(self,*args):\n",
      "        super(Midpoint, self).__init__(*args)\n",
      "\n",
      "    def method(self):\n",
      "        x = np.arange(a+(b-a)/n/2,b-(b-a)/n/2,(b-a)/n)\n",
      "        w = (b-a)/n\n",
      "        return (x,w)"
     ],
     "language": "python",
     "metadata": {},
     "outputs": []
    },
    {
     "cell_type": "code",
     "collapsed": false,
     "input": [
      "# Make sure points for midpoint rule are what I want\n",
      "a=1.\n",
      "b=9.\n",
      "n=4.\n",
      "x = np.arange(a+(b-a)/n/2,b-(b-a)/n/2,(b-a)/n)\n",
      "print x"
     ],
     "language": "python",
     "metadata": {},
     "outputs": []
    },
    {
     "cell_type": "code",
     "collapsed": false,
     "input": [
      "def integfuncMidpoint(x,n):\n",
      "    integ1=Midpoint(0,x,n)\n",
      "    xpts=np.arange(0.+(x-0.)/n/2.,x-(x-0.)/n/2.,(x-0.)/n)\n",
      "    plt.plot(xpts,integ1.integrate(func),label=r'integral of sin(x)')\n",
      "    plt.plot(xpts,1-np.cos(xpts),label=r'1-cos(x)')\n",
      "    plt.xlabel('x')\n",
      "    plt.ylabel('y')\n",
      "    plt.legend()\n",
      "    \n",
      "integfuncMidpoint(10.,5.)"
     ],
     "language": "python",
     "metadata": {},
     "outputs": []
    }
   ],
   "metadata": {}
  }
 ]
}