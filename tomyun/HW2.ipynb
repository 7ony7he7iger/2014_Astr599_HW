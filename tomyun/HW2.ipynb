{
 "metadata": {
  "name": "",
  "signature": "sha256:f01587476f5466060e26188840ab5ce8def8c30b69230d1f00fd237ef37ddac4"
 },
 "nbformat": 3,
 "nbformat_minor": 0,
 "worksheets": [
  {
   "cells": [
    {
     "cell_type": "heading",
     "level": 1,
     "metadata": {},
     "source": [
      "Homework 2"
     ]
    },
    {
     "cell_type": "markdown",
     "metadata": {},
     "source": [
      "Homework #2, by Kyungdahm Yun"
     ]
    },
    {
     "cell_type": "heading",
     "level": 2,
     "metadata": {},
     "source": [
      "Assignment: An integrator parent"
     ]
    },
    {
     "cell_type": "markdown",
     "metadata": {},
     "source": [
      "Create a function `func`."
     ]
    },
    {
     "cell_type": "code",
     "collapsed": false,
     "input": [
      "import numpy as np\n",
      "\n",
      "def func(x):\n",
      "    return np.sin(x)"
     ],
     "language": "python",
     "metadata": {},
     "outputs": [],
     "prompt_number": 1
    },
    {
     "cell_type": "markdown",
     "metadata": {},
     "source": [
      "Implement the parent class `integrator` with a function called `integrate(self, func)`, which calculates the integral from $w_i$ (`self.weights`) at different points $x_i$ (`self.points`):\n",
      "\n",
      "$$\n",
      "\\int_a^b f(x) dx = \\sum_{i=0}^{n-1} w_i f(x_i)\n",
      "$$"
     ]
    },
    {
     "cell_type": "code",
     "collapsed": false,
     "input": [
      "class Integrator(object):\n",
      "    def __init__(self, a, b, n):\n",
      "        self.a, self.b, self.n = a, b, n\n",
      "        self.points, self.weights = self.method()\n",
      "        \n",
      "    def method(self):\n",
      "        raise NotImplementedError('no rule in class %s' % self.__class__.__name__)\n",
      "        \n",
      "    def integrate(self, func):\n",
      "        # stick to list comprehension as we don't know if `func()` accepts arrays.\n",
      "        return np.sum(np.array(self.weights) * [func(x) for x in self.points])"
     ],
     "language": "python",
     "metadata": {},
     "outputs": [],
     "prompt_number": 2
    },
    {
     "cell_type": "markdown",
     "metadata": {},
     "source": [
      "Create a child class of `Integrator` called `Trapezoidal` with a function `method(self)` defined."
     ]
    },
    {
     "cell_type": "code",
     "collapsed": false,
     "input": [
      "class Trapezoidal(Integrator):\n",
      "    def method(self):\n",
      "        # shortcuts\n",
      "        a, b = self.a, self.b\n",
      "        \n",
      "        # trapezoidal method requires two points for one step\n",
      "        n = self.n*2\n",
      "        \n",
      "        # compute grid spacing\n",
      "        # multiplying by 1. prevents integer divison\n",
      "        h = 1. * (b-a)/n\n",
      "        \n",
      "        # compute weights\n",
      "        # empty & fill: fastest way to create a filled array\n",
      "        w = np.empty(n)\n",
      "        w.fill(h)\n",
      "        \n",
      "        # compute points\n",
      "        # e.g. [a, a+h, a+h, a+2h, a+2h, ..., b-2h, b-2h, b-h, b-h, b]\n",
      "        x = np.concatenate(([a], np.linspace(a+h, b-h, n/2-1).repeat(2), [b]))\n",
      "        \n",
      "        return x, w"
     ],
     "language": "python",
     "metadata": {},
     "outputs": [],
     "prompt_number": 3
    },
    {
     "cell_type": "markdown",
     "metadata": {},
     "source": [
      "Create a child class of `Integrator` called `Midpoint` employing the midpoint method for numerical integration."
     ]
    },
    {
     "cell_type": "code",
     "collapsed": false,
     "input": [
      "class Midpoint(Integrator):\n",
      "    def method(self):\n",
      "        # shortcuts\n",
      "        a, b, n = self.a, self.b, self.n\n",
      "        \n",
      "        # grid spacing\n",
      "        h = 1. * (b-a)/n\n",
      "        \n",
      "        # weights\n",
      "        w = np.empty(n)\n",
      "        w.fill(h)\n",
      "        \n",
      "        # points: linspace should give same spacing as h\n",
      "        x = np.linspace(a, b, n)\n",
      "        \n",
      "        return x, w"
     ],
     "language": "python",
     "metadata": {},
     "outputs": [],
     "prompt_number": 4
    },
    {
     "cell_type": "markdown",
     "metadata": {},
     "source": [
      "Create a separate function of x that plots\n",
      "$\n",
      "\\int_0^x sin(x) dx = 1 - cos(x),\n",
      "$\n",
      "using any of the two methods you developed."
     ]
    },
    {
     "cell_type": "code",
     "collapsed": false,
     "input": [
      "%matplotlib inline\n",
      "import matplotlib.pyplot as plt\n",
      "\n",
      "def plot(x, func=func, n=100, integ=Midpoint):\n",
      "    y = [integ(a=0, b=b, n=n).integrate(func) for b in x]\n",
      "    plt.scatter(x, y, s=5, label=integ.__name__)\n",
      "    plt.legend()"
     ],
     "language": "python",
     "metadata": {},
     "outputs": [],
     "prompt_number": 5
    },
    {
     "cell_type": "markdown",
     "metadata": {},
     "source": [
      "Plot the function of `x` that spans from 0 to 20 by 0.1 interval. Midpoint method is used by default."
     ]
    },
    {
     "cell_type": "code",
     "collapsed": false,
     "input": [
      "x = np.arange(0, 20, 0.1)\n",
      "plot(x)"
     ],
     "language": "python",
     "metadata": {},
     "outputs": [
      {
       "metadata": {},
       "output_type": "display_data",
       "png": "[encoded data removed]",
       "text": [
        "<matplotlib.figure.Figure at 0x107cee1d0>"
       ]
      }
     ],
     "prompt_number": 6
    },
    {
     "cell_type": "markdown",
     "metadata": {},
     "source": [
      "Trapezoidal method can be used instead."
     ]
    },
    {
     "cell_type": "code",
     "collapsed": false,
     "input": [
      "plot(x, integ=Trapezoidal)"
     ],
     "language": "python",
     "metadata": {},
     "outputs": [
      {
       "metadata": {},
       "output_type": "display_data",
       "png": "[encoded data removed]",
       "text": [
        "<matplotlib.figure.Figure at 0x109d11c50>"
       ]
      }
     ],
     "prompt_number": 7
    },
    {
     "cell_type": "markdown",
     "metadata": {},
     "source": [
      "Number of points used for integral, `n`, can have a value other than default 100. Note that too small `n` could make computation quite unstable."
     ]
    },
    {
     "cell_type": "code",
     "collapsed": false,
     "input": [
      "plot(x, n=5, integ=Trapezoidal)"
     ],
     "language": "python",
     "metadata": {},
     "outputs": [
      {
       "metadata": {},
       "output_type": "display_data",
       "png": "[encoded data removed]",
       "text": [
        "<matplotlib.figure.Figure at 0x109dd6210>"
       ]
      }
     ],
     "prompt_number": 8
    }
   ],
   "metadata": {}
  }
 ]
}