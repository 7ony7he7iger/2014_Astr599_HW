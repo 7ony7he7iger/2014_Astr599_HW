{
 "metadata": {
  "name": "HW3.ipynb"
 },
 "nbformat": 3,
 "nbformat_minor": 0,
 "worksheets": [
  {
   "cells": [
    {
     "cell_type": "code",
     "collapsed": false,
     "input": [
      "%matplotlib inline\n",
      "import astroML.datasets\n",
      "import numpy as np\n",
      "import matplotlib.pyplot as plt"
     ],
     "language": "python",
     "metadata": {},
     "outputs": [],
     "prompt_number": 2
    },
    {
     "cell_type": "code",
     "collapsed": false,
     "input": [
      "lcs=astroML.datasets.fetch_LINEAR_sample()"
     ],
     "language": "python",
     "metadata": {},
     "outputs": [
      {
       "output_type": "stream",
       "stream": "stdout",
       "text": [
        "Downloading http://www.astro.washington.edu/users/ivezic/linear/allDataFinal/allLINEARfinal_targets.dat\n",
        "[=                                      ]  25.0kb / 1001.2kb   \r"
       ]
      },
      {
       "output_type": "stream",
       "stream": "stdout",
       "text": [
        "[==                                     ]  50.1kb / 1001.2kb   \r"
       ]
      },
      {
       "output_type": "stream",
       "stream": "stdout",
       "text": [
        "[===                                    ]  75.1kb / 1001.2kb   \r"
       ]
      },
      {
       "output_type": "stream",
       "stream": "stdout",
       "text": [
        "[====                                   ]  100.1kb / 1001.2kb   \r"
       ]
      },
      {
       "output_type": "stream",
       "stream": "stdout",
       "text": [
        "[=====                                  ]  125.2kb / 1001.2kb   \r"
       ]
      },
      {
       "output_type": "stream",
       "stream": "stdout",
       "text": [
        "[======                                 ]  150.2kb / 1001.2kb   \r"
       ]
      },
      {
       "output_type": "stream",
       "stream": "stdout",
       "text": [
        "[=======                                ]  175.2kb / 1001.2kb   \r"
       ]
      },
      {
       "output_type": "stream",
       "stream": "stdout",
       "text": [
        "[========                               ]  200.2kb / 1001.2kb   \r"
       ]
      },
      {
       "output_type": "stream",
       "stream": "stdout",
       "text": [
        "[=========                              ]  225.3kb / 1001.2kb   \r"
       ]
      },
      {
       "output_type": "stream",
       "stream": "stdout",
       "text": [
        "[==========                             ]  250.3kb / 1001.2kb   \r"
       ]
      },
      {
       "output_type": "stream",
       "stream": "stdout",
       "text": [
        "[===========                            ]  275.3kb / 1001.2kb   \r"
       ]
      },
      {
       "output_type": "stream",
       "stream": "stdout",
       "text": [
        "[============                           ]  300.4kb / 1001.2kb   \r"
       ]
      },
      {
       "output_type": "stream",
       "stream": "stdout",
       "text": [
        "[=============                          ]  325.4kb / 1001.2kb   \r"
       ]
      },
      {
       "output_type": "stream",
       "stream": "stdout",
       "text": [
        "[==============                         ]  350.4kb / 1001.2kb   \r"
       ]
      },
      {
       "output_type": "stream",
       "stream": "stdout",
       "text": [
        "[===============                        ]  375.5kb / 1001.2kb   \r"
       ]
      },
      {
       "output_type": "stream",
       "stream": "stdout",
       "text": [
        "[================                       ]  400.5kb / 1001.2kb   \r"
       ]
      },
      {
       "output_type": "stream",
       "stream": "stdout",
       "text": [
        "[=================                      ]  425.5kb / 1001.2kb   \r"
       ]
      },
      {
       "output_type": "stream",
       "stream": "stdout",
       "text": [
        "[==================                     ]  450.5kb / 1001.2kb   \r"
       ]
      },
      {
       "output_type": "stream",
       "stream": "stdout",
       "text": [
        "[===================                    ]  475.6kb / 1001.2kb   \r"
       ]
      },
      {
       "output_type": "stream",
       "stream": "stdout",
       "text": [
        "[====================                   ]  500.6kb / 1001.2kb   \r"
       ]
      },
      {
       "output_type": "stream",
       "stream": "stdout",
       "text": [
        "[=====================                  ]  525.6kb / 1001.2kb   \r"
       ]
      },
      {
       "output_type": "stream",
       "stream": "stdout",
       "text": [
        "[======================                 ]  550.7kb / 1001.2kb   \r"
       ]
      },
      {
       "output_type": "stream",
       "stream": "stdout",
       "text": [
        "[=======================                ]  575.7kb / 1001.2kb   \r"
       ]
      },
      {
       "output_type": "stream",
       "stream": "stdout",
       "text": [
        "[========================               ]  600.7kb / 1001.2kb   \r"
       ]
      },
      {
       "output_type": "stream",
       "stream": "stdout",
       "text": [
        "[=========================              ]  625.8kb / 1001.2kb   \r"
       ]
      },
      {
       "output_type": "stream",
       "stream": "stdout",
       "text": [
        "[==========================             ]  650.8kb / 1001.2kb   \r"
       ]
      },
      {
       "output_type": "stream",
       "stream": "stdout",
       "text": [
        "[===========================            ]  675.8kb / 1001.2kb   \r"
       ]
      },
      {
       "output_type": "stream",
       "stream": "stdout",
       "text": [
        "[============================           ]  700.8kb / 1001.2kb   \r"
       ]
      },
      {
       "output_type": "stream",
       "stream": "stdout",
       "text": [
        "[=============================          ]  725.9kb / 1001.2kb   \r"
       ]
      },
      {
       "output_type": "stream",
       "stream": "stdout",
       "text": [
        "[==============================         ]  750.9kb / 1001.2kb   \r"
       ]
      },
      {
       "output_type": "stream",
       "stream": "stdout",
       "text": [
        "[===============================        ]  775.9kb / 1001.2kb   \r"
       ]
      },
      {
       "output_type": "stream",
       "stream": "stdout",
       "text": [
        "[================================       ]  801.0kb / 1001.2kb   \r"
       ]
      },
      {
       "output_type": "stream",
       "stream": "stdout",
       "text": [
        "[=================================      ]  826.0kb / 1001.2kb   \r"
       ]
      },
      {
       "output_type": "stream",
       "stream": "stdout",
       "text": [
        "[==================================     ]  851.0kb / 1001.2kb   \r"
       ]
      },
      {
       "output_type": "stream",
       "stream": "stdout",
       "text": [
        "[===================================    ]  876.1kb / 1001.2kb   \r"
       ]
      },
      {
       "output_type": "stream",
       "stream": "stdout",
       "text": [
        "[====================================   ]  901.1kb / 1001.2kb   \r"
       ]
      },
      {
       "output_type": "stream",
       "stream": "stdout",
       "text": [
        "[=====================================  ]  926.1kb / 1001.2kb   \r"
       ]
      },
      {
       "output_type": "stream",
       "stream": "stdout",
       "text": [
        "[====================================== ]  951.2kb / 1001.2kb   \r"
       ]
      },
      {
       "output_type": "stream",
       "stream": "stdout",
       "text": [
        "[=======================================]  976.2kb / 1001.2kb   \r"
       ]
      },
      {
       "output_type": "stream",
       "stream": "stdout",
       "text": [
        "[========================================]  1001.2kb / 1001.2kb   \r"
       ]
      },
      {
       "output_type": "stream",
       "stream": "stdout",
       "text": [
        "[=========================================]  1001.2kb / 1001.2kb   \r"
       ]
      },
      {
       "output_type": "stream",
       "stream": "stdout",
       "text": [
        "\n",
        "Downloading http://www.astro.washington.edu/users/ivezic/linear/allDataFinal/allLINEARfinal_dat.tar.gz\n",
        "[=                                      ]  410.9kb / 16.05Mb   \r"
       ]
      },
      {
       "output_type": "stream",
       "stream": "stdout",
       "text": [
        "[==                                     ]  821.9kb / 16.05Mb   \r"
       ]
      },
      {
       "output_type": "stream",
       "stream": "stdout",
       "text": [
        "[===                                    ]  1.20Mb / 16.05Mb   \r"
       ]
      },
      {
       "output_type": "stream",
       "stream": "stdout",
       "text": [
        "[====                                   ]  1.61Mb / 16.05Mb   \r"
       ]
      },
      {
       "output_type": "stream",
       "stream": "stdout",
       "text": [
        "[=====                                  ]  2.01Mb / 16.05Mb   \r"
       ]
      },
      {
       "output_type": "stream",
       "stream": "stdout",
       "text": [
        "[======                                 ]  2.41Mb / 16.05Mb   \r"
       ]
      },
      {
       "output_type": "stream",
       "stream": "stdout",
       "text": [
        "[=======                                ]  2.81Mb / 16.05Mb   \r"
       ]
      },
      {
       "output_type": "stream",
       "stream": "stdout",
       "text": [
        "[========                               ]  3.21Mb / 16.05Mb   \r"
       ]
      },
      {
       "output_type": "stream",
       "stream": "stdout",
       "text": [
        "[=========                              ]  3.61Mb / 16.05Mb   \r"
       ]
      },
      {
       "output_type": "stream",
       "stream": "stdout",
       "text": [
        "[==========                             ]  4.01Mb / 16.05Mb   \r"
       ]
      },
      {
       "output_type": "stream",
       "stream": "stdout",
       "text": [
        "[===========                            ]  4.41Mb / 16.05Mb   \r"
       ]
      },
      {
       "output_type": "stream",
       "stream": "stdout",
       "text": [
        "[============                           ]  4.82Mb / 16.05Mb   \r"
       ]
      },
      {
       "output_type": "stream",
       "stream": "stdout",
       "text": [
        "[=============                          ]  5.22Mb / 16.05Mb   \r"
       ]
      },
      {
       "output_type": "stream",
       "stream": "stdout",
       "text": [
        "[==============                         ]  5.62Mb / 16.05Mb   \r"
       ]
      },
      {
       "output_type": "stream",
       "stream": "stdout",
       "text": [
        "[===============                        ]  6.02Mb / 16.05Mb   \r"
       ]
      },
      {
       "output_type": "stream",
       "stream": "stdout",
       "text": [
        "[================                       ]  6.42Mb / 16.05Mb   \r"
       ]
      },
      {
       "output_type": "stream",
       "stream": "stdout",
       "text": [
        "[=================                      ]  6.82Mb / 16.05Mb   \r"
       ]
      },
      {
       "output_type": "stream",
       "stream": "stdout",
       "text": [
        "[==================                     ]  7.22Mb / 16.05Mb   \r"
       ]
      },
      {
       "output_type": "stream",
       "stream": "stdout",
       "text": [
        "[===================                    ]  7.62Mb / 16.05Mb   \r"
       ]
      },
      {
       "output_type": "stream",
       "stream": "stdout",
       "text": [
        "[====================                   ]  8.03Mb / 16.05Mb   \r"
       ]
      },
      {
       "output_type": "stream",
       "stream": "stdout",
       "text": [
        "[=====================                  ]  8.43Mb / 16.05Mb   \r"
       ]
      },
      {
       "output_type": "stream",
       "stream": "stdout",
       "text": [
        "[======================                 ]  8.83Mb / 16.05Mb   \r"
       ]
      },
      {
       "output_type": "stream",
       "stream": "stdout",
       "text": [
        "[=======================                ]  9.23Mb / 16.05Mb   \r"
       ]
      },
      {
       "output_type": "stream",
       "stream": "stdout",
       "text": [
        "[========================               ]  9.63Mb / 16.05Mb   \r"
       ]
      },
      {
       "output_type": "stream",
       "stream": "stdout",
       "text": [
        "[=========================              ]  10.03Mb / 16.05Mb   \r"
       ]
      },
      {
       "output_type": "stream",
       "stream": "stdout",
       "text": [
        "[==========================             ]  10.43Mb / 16.05Mb   \r"
       ]
      },
      {
       "output_type": "stream",
       "stream": "stdout",
       "text": [
        "[===========================            ]  10.84Mb / 16.05Mb   \r"
       ]
      },
      {
       "output_type": "stream",
       "stream": "stdout",
       "text": [
        "[============================           ]  11.24Mb / 16.05Mb   \r"
       ]
      },
      {
       "output_type": "stream",
       "stream": "stdout",
       "text": [
        "[=============================          ]  11.64Mb / 16.05Mb   \r"
       ]
      },
      {
       "output_type": "stream",
       "stream": "stdout",
       "text": [
        "[==============================         ]  12.04Mb / 16.05Mb   \r"
       ]
      },
      {
       "output_type": "stream",
       "stream": "stdout",
       "text": [
        "[===============================        ]  12.44Mb / 16.05Mb   \r"
       ]
      },
      {
       "output_type": "stream",
       "stream": "stdout",
       "text": [
        "[================================       ]  12.84Mb / 16.05Mb   \r"
       ]
      },
      {
       "output_type": "stream",
       "stream": "stdout",
       "text": [
        "[=================================      ]  13.24Mb / 16.05Mb   \r"
       ]
      },
      {
       "output_type": "stream",
       "stream": "stdout",
       "text": [
        "[==================================     ]  13.64Mb / 16.05Mb   \r"
       ]
      },
      {
       "output_type": "stream",
       "stream": "stdout",
       "text": [
        "[===================================    ]  14.05Mb / 16.05Mb   \r"
       ]
      },
      {
       "output_type": "stream",
       "stream": "stdout",
       "text": [
        "[====================================   ]  14.45Mb / 16.05Mb   \r"
       ]
      },
      {
       "output_type": "stream",
       "stream": "stdout",
       "text": [
        "[=====================================  ]  14.85Mb / 16.05Mb   \r"
       ]
      },
      {
       "output_type": "stream",
       "stream": "stdout",
       "text": [
        "[====================================== ]  15.25Mb / 16.05Mb   \r"
       ]
      },
      {
       "output_type": "stream",
       "stream": "stdout",
       "text": [
        "[=======================================]  15.65Mb / 16.05Mb   \r"
       ]
      },
      {
       "output_type": "stream",
       "stream": "stdout",
       "text": [
        "[========================================]  16.05Mb / 16.05Mb   \r"
       ]
      },
      {
       "output_type": "stream",
       "stream": "stdout",
       "text": [
        "[=========================================]  16.05Mb / 16.05Mb   \r"
       ]
      },
      {
       "output_type": "stream",
       "stream": "stdout",
       "text": [
        "\n"
       ]
      }
     ],
     "prompt_number": 3
    },
    {
     "cell_type": "code",
     "collapsed": false,
     "input": [
      "print lcs.ids"
     ],
     "language": "python",
     "metadata": {},
     "outputs": [
      {
       "output_type": "stream",
       "stream": "stdout",
       "text": [
        "[10003298 10004892 10013411 ...,  9984569  9987252   999528]\n"
       ]
      }
     ],
     "prompt_number": 4
    },
    {
     "cell_type": "code",
     "collapsed": false,
     "input": [
      "time, flux, dflux = lcs[10013411].T"
     ],
     "language": "python",
     "metadata": {},
     "outputs": [],
     "prompt_number": 5
    },
    {
     "cell_type": "code",
     "collapsed": false,
     "input": [
      "from astroML.time_series import lomb_scargle\n",
      "periods=np.logspace(-1,0,10000,base=10)\n",
      "periodogram=lomb_scargle(time, flux, dflux, omega=2 * np.pi / periods, generalized = True)"
     ],
     "language": "python",
     "metadata": {},
     "outputs": [
      {
       "output_type": "stream",
       "stream": "stderr",
       "text": [
        "/home/elizabeth/Enthought/Canopy_64bit/User/lib/python2.7/site-packages/astroML/time_series/periodogram.py:8: UserWarning: Using slow version of lomb_scargle. Install astroML_addons to use an optimized version\n",
        "  warnings.warn(\"Using slow version of lomb_scargle. Install astroML_addons \"\n"
       ]
      }
     ],
     "prompt_number": 6
    },
    {
     "cell_type": "code",
     "collapsed": false,
     "input": [
      "idx=np.argmax(periodogram)"
     ],
     "language": "python",
     "metadata": {},
     "outputs": [],
     "prompt_number": 8
    },
    {
     "cell_type": "code",
     "collapsed": false,
     "input": [
      "period=periods[idx]\n",
      "phase = time/period - time// period\n",
      "print min(phase), max(phase)"
     ],
     "language": "python",
     "metadata": {},
     "outputs": [
      {
       "output_type": "stream",
       "stream": "stdout",
       "text": [
        "0.00423701824184 0.99554320021\n"
       ]
      }
     ],
     "prompt_number": 12
    },
    {
     "cell_type": "code",
     "collapsed": false,
     "input": [
      "plt.errorbar(phase, flux, yerr=dflux, fmt=\"ro\")\n",
      "plt.gca().invert_yaxis()\n",
      "plt.xlabel(\"Phase\")\n",
      "plt.ylabel(\"Mag\")\n",
      "plt.show()"
     ],
     "language": "python",
     "metadata": {},
     "outputs": [
      {
       "metadata": {},
       "output_type": "display_data",
       "png": "[encoded data removed]",
       "text": [
        "<matplotlib.figure.Figure at 0x3774a50>"
       ]
      }
     ],
     "prompt_number": 10
    },
    {
     "cell_type": "code",
     "collapsed": false,
     "input": [
      "class Fourier(object):\n",
      "    def __init__(self, phase, flux, dflux, nterms):\n",
      "        self.phase = phase\n",
      "        self.flux = flux\n",
      "        self.dflux = dflux\n",
      "        self.nterms = nterms\n",
      "        assert(self.nterms > 0)\n",
      "        \n",
      "    def evaluate(self, phase, terms):\n",
      "        assert(len(terms) == 2 * self.nterms - 1)\n",
      "        model = terms[0] * np.ones(len(phase))\n",
      "        for i in range(self.nterms-1):\n",
      "            model += terms[2*i + 1] * np.cos(2 * np.pi * (i+1) * phase + terms[2*i + 2])\n",
      "        return model\n",
      "    \n",
      "    def chi2(self, args):\n",
      "        model = self.evaluate(self.phase, args)\n",
      "        chi   = (model - self.flux) / self.dflux\n",
      "        return np.sum(chi**2)"
     ],
     "language": "python",
     "metadata": {},
     "outputs": [],
     "prompt_number": 13
    },
    {
     "cell_type": "code",
     "collapsed": false,
     "input": [
      "fourier=Fourier(phase,flux,dflux,2)\n",
      "guess = []\n",
      "guess.append(np.mean(fourier.flux))\n",
      "guess.append(np.std(fourier.flux))\n",
      "guess.append(2* np.pi * (1 - fourier.phase[np.argmax(fourier.flux)]))"
     ],
     "language": "python",
     "metadata": {},
     "outputs": [],
     "prompt_number": 17
    },
    {
     "cell_type": "code",
     "collapsed": false,
     "input": [
      "print guess"
     ],
     "language": "python",
     "metadata": {},
     "outputs": [
      {
       "output_type": "stream",
       "stream": "stdout",
       "text": [
        "[15.574235294117635, 0.19158245941193383, 1.709596014964752]\n"
       ]
      }
     ],
     "prompt_number": 18
    },
    {
     "cell_type": "code",
     "collapsed": false,
     "input": [
      "from scipy import optimize"
     ],
     "language": "python",
     "metadata": {},
     "outputs": [],
     "prompt_number": 20
    },
    {
     "cell_type": "code",
     "collapsed": false,
     "input": [
      "result=optimize.fmin(fourier.chi2,x0=[guess],disp=0,full_output=1)\n",
      "best_fit=result[0]"
     ],
     "language": "python",
     "metadata": {},
     "outputs": [],
     "prompt_number": 21
    },
    {
     "cell_type": "code",
     "collapsed": false,
     "input": [
      "class Fourier2(Fourier):\n",
      "    def __init__(self, phase, flux, dflux, nterms):\n",
      "        Fourier.__init__(self, phase, flux, dflux, nterms)\n",
      "                \n",
      "    def makeGuess(self):\n",
      "        guess = []\n",
      "        guess.append(np.mean(self.flux))\n",
      "        if self.nterms > 1:\n",
      "            guess.append(np.std(self.flux))\n",
      "            guess.append(2 * np.pi * (1 - self.phase[np.argsort(self.flux)[-1]]))\n",
      "            for i in range(2, self.nterms):\n",
      "                guess.append(0.0)\n",
      "                guess.append(2 * np.pi * (1 - self.phase[np.argsort(self.flux)[-1]]))\n",
      "        return guess\n"
     ],
     "language": "python",
     "metadata": {},
     "outputs": [],
     "prompt_number": 23
    },
    {
     "cell_type": "code",
     "collapsed": false,
     "input": [
      "\n",
      "\n",
      "nterms     = np.arange(1, 25)\n",
      "chi2       = []\n",
      "BICpenalty = []\n",
      "AICpenalty = []\n",
      "for nterm in nterms:\n",
      "    fourier = Fourier2(phase, flux, dflux, nterm)\n",
      "    guess   = fourier.makeGuess()\n",
      "    BICpenalty.append(len(guess) * np.log(len(fourier.phase)))\n",
      "    AICpenalty.append(len(guess) * 2.0)\n",
      "    chi2.append(optimize.fmin_bfgs(fourier.chi2, x0=[guess], disp=0, full_output=1)[1])\n",
      "chi2 = np.array(chi2)\n",
      "BICpenalty = np.array(BICpenalty)\n",
      "AICpenalty = np.array(AICpenalty)\n"
     ],
     "language": "python",
     "metadata": {},
     "outputs": [],
     "prompt_number": 37
    },
    {
     "cell_type": "code",
     "collapsed": false,
     "input": [
      "plt.plot(nterms, chi2, label=\"chi2\")\n",
      "plt.plot(nterms, chi2 + BICpenalty, label=\"BIC\")\n",
      "plt.plot(nterms, chi2 + AICpenalty, label=\"AIC\")\n",
      "plt.xlabel(\"N Terms\")\n",
      "plt.ylabel(\"Chi2\")\n",
      "plt.semilogy()\n",
      "plt.legend()\n",
      "plt.show()"
     ],
     "language": "python",
     "metadata": {},
     "outputs": [
      {
       "metadata": {},
       "output_type": "display_data",
       "png": "[encoded data removed]",
       "text": [
        "<matplotlib.figure.Figure at 0x3bd2450>"
       ]
      }
     ],
     "prompt_number": 38
    },
    {
     "cell_type": "code",
     "collapsed": false,
     "input": [
      "print np.argmin(chi2+BICpenalty), np.argmin(chi2+AICpenalty)\n"
     ],
     "language": "python",
     "metadata": {},
     "outputs": [
      {
       "output_type": "stream",
       "stream": "stdout",
       "text": [
        "23 23\n"
       ]
      }
     ],
     "prompt_number": 39
    },
    {
     "cell_type": "markdown",
     "metadata": {},
     "source": [
      "This is taking forever to compute, and shows no signs of picking up. I'll try a different data set."
     ]
    },
    {
     "cell_type": "code",
     "collapsed": false,
     "input": [
      "time, flux, dflux = lcs[9984569].T"
     ],
     "language": "python",
     "metadata": {},
     "outputs": [],
     "prompt_number": 40
    },
    {
     "cell_type": "code",
     "collapsed": false,
     "input": [
      "from astroML.time_series import lomb_scargle\n",
      "periods=np.logspace(-1,0,10000,base=10)\n",
      "periodogram=lomb_scargle(time, flux, dflux, omega=2 * np.pi / periods, generalized = True)\n",
      "idx=np.argmax(periodogram)\n",
      "period=periods[idx]\n",
      "phase = time/period - time// period\n",
      "print min(phase), max(phase)"
     ],
     "language": "python",
     "metadata": {},
     "outputs": [
      {
       "output_type": "stream",
       "stream": "stdout",
       "text": [
        "0.00180794774496 0.999047106103\n"
       ]
      }
     ],
     "prompt_number": 41
    },
    {
     "cell_type": "code",
     "collapsed": false,
     "input": [
      "plt.errorbar(phase, flux, yerr=dflux, fmt=\"ro\")\n",
      "plt.gca().invert_yaxis()\n",
      "plt.xlabel(\"Phase\")\n",
      "plt.ylabel(\"Mag\")\n",
      "plt.show()"
     ],
     "language": "python",
     "metadata": {},
     "outputs": [
      {
       "metadata": {},
       "output_type": "display_data",
       "png": "[encoded data removed]",
       "text": [
        "<matplotlib.figure.Figure at 0x38d3ad0>"
       ]
      }
     ],
     "prompt_number": 42
    },
    {
     "cell_type": "markdown",
     "metadata": {},
     "source": [
      "This looks easier to work with."
     ]
    },
    {
     "cell_type": "code",
     "collapsed": false,
     "input": [
      "nterms     = np.arange(1, 25)\n",
      "chi2       = []\n",
      "BICpenalty = []\n",
      "AICpenalty = []\n",
      "for nterm in nterms:\n",
      "    fourier = Fourier2(phase, flux, dflux, nterm)\n",
      "    guess   = fourier.makeGuess()\n",
      "    BICpenalty.append(len(guess) * np.log(len(fourier.phase)))\n",
      "    AICpenalty.append(len(guess) * 2.0)\n",
      "    chi2.append(optimize.fmin_bfgs(fourier.chi2, x0=[guess], disp=0, full_output=1)[1])\n",
      "chi2 = np.array(chi2)\n",
      "BICpenalty = np.array(BICpenalty)\n",
      "AICpenalty = np.array(AICpenalty)"
     ],
     "language": "python",
     "metadata": {},
     "outputs": [],
     "prompt_number": 45
    },
    {
     "cell_type": "code",
     "collapsed": false,
     "input": [
      "plt.plot(nterms, chi2, label=\"chi2\")\n",
      "plt.plot(nterms, chi2 + BICpenalty, label=\"BIC\")\n",
      "plt.plot(nterms, chi2 + AICpenalty, label=\"AIC\")\n",
      "plt.xlabel(\"N Terms\")\n",
      "plt.ylabel(\"Chi2\")\n",
      "plt.semilogy()\n",
      "plt.legend()\n",
      "plt.show()"
     ],
     "language": "python",
     "metadata": {},
     "outputs": [
      {
       "metadata": {},
       "output_type": "display_data",
       "png": "[encoded data removed]",
       "text": [
        "<matplotlib.figure.Figure at 0x3cb72d0>"
       ]
      }
     ],
     "prompt_number": 46
    },
    {
     "cell_type": "markdown",
     "metadata": {},
     "source": [
      "Ah, this looks much better! Let's look at the suggested orders."
     ]
    },
    {
     "cell_type": "code",
     "collapsed": false,
     "input": [
      "print np.argmin(chi2+BICpenalty), np.argmin(chi2+AICpenalty)"
     ],
     "language": "python",
     "metadata": {},
     "outputs": [
      {
       "output_type": "stream",
       "stream": "stdout",
       "text": [
        "2 6\n"
       ]
      }
     ],
     "prompt_number": 47
    },
    {
     "cell_type": "code",
     "collapsed": false,
     "input": [
      "print nterms[2], nterms[6]"
     ],
     "language": "python",
     "metadata": {},
     "outputs": [
      {
       "output_type": "stream",
       "stream": "stdout",
       "text": [
        "3 7\n"
       ]
      }
     ],
     "prompt_number": 48
    },
    {
     "cell_type": "code",
     "collapsed": false,
     "input": [
      "fourier2 = Fourier(phase, flux, dflux, 3)\n",
      "guess2   = [] # this needs to be the number of paramters you want to fit for, now 2*3-1 = 5\n",
      "guess2.append(np.mean(fourier2.flux))\n",
      "guess2.append(np.std(fourier2.flux))\n",
      "guess2.append(2 * np.pi * (1 - fourier2.phase[np.argsort(fourier2.flux)[-1]]))\n",
      "guess2.append(0.0)\n",
      "guess2.append(2 * np.pi * (1 - fourier2.phase[np.argsort(fourier2.flux)[-1]]))\n",
      "result2 = optimize.fmin_bfgs(fourier2.chi2, x0=[guess2], disp=0, full_output=1)\n",
      "best_fit2 = result2[0]\n",
      "print best_fit2"
     ],
     "language": "python",
     "metadata": {},
     "outputs": [
      {
       "output_type": "stream",
       "stream": "stdout",
       "text": [
        "[ 16.84256837  -0.18016488   7.16810777   0.03440373   6.70278133]\n"
       ]
      }
     ],
     "prompt_number": 51
    },
    {
     "cell_type": "code",
     "collapsed": false,
     "input": [
      "plt.errorbar(fourier2.phase, fourier2.flux, yerr=fourier2.dflux, fmt=\"ro\")\n",
      "plt.plot(mphase, fourier2.evaluate(mphase, guess2), \"b--\", label=\"Initial guess\")\n",
      "plt.plot(mphase, fourier2.evaluate(mphase, best_fit2), \"g-\", label=\"Best fit\")\n",
      "plt.gca().invert_yaxis()\n",
      "plt.xlabel(\"Phase\")\n",
      "plt.ylabel(\"Mag\")\n",
      "plt.show()"
     ],
     "language": "python",
     "metadata": {},
     "outputs": [
      {
       "metadata": {},
       "output_type": "display_data",
       "png": "[encoded data removed]",
       "text": [
        "<matplotlib.figure.Figure at 0x3ce3550>"
       ]
      }
     ],
     "prompt_number": 52
    },
    {
     "cell_type": "code",
     "collapsed": false,
     "input": [
      "\n",
      "\n",
      "fourier5 = Fourier(phase, flux, dflux, 7)\n",
      "guess5   = [] # this needs to be the number of paramters you want to fit for, now 0\n",
      "guess5.append(np.mean(fourier5.flux))\n",
      "guess5.append(np.std(fourier5.flux))\n",
      "guess5.append(2 * np.pi * (1 - fourier5.phase[np.argsort(fourier5.flux)[-1]]))\n",
      "for i in range(2, 7):\n",
      "    guess5.append(0.0)\n",
      "    guess5.append(2 * np.pi * (1 - fourier5.phase[np.argsort(fourier5.flux)[-1]]))\n",
      "result5 = optimize.fmin_bfgs(fourier5.chi2, x0=[guess5], disp=0, full_output=1)\n",
      "best_fit5 = result5[0]\n",
      "print best_fit5\n",
      "\n",
      "\n",
      "plt.errorbar(fourier5.phase, fourier5.flux, yerr=fourier5.dflux, fmt=\"ro\")\n",
      "plt.plot(mphase, fourier5.evaluate(mphase, guess5), \"b--\", label=\"Initial guess\")\n",
      "plt.plot(mphase, fourier5.evaluate(mphase, best_fit5), \"g-\", label=\"Best fit\")\n",
      "plt.gca().invert_yaxis()\n",
      "plt.xlabel(\"Phase\")\n",
      "plt.ylabel(\"Mag\")\n",
      "plt.show()"
     ],
     "language": "python",
     "metadata": {},
     "outputs": [
      {
       "output_type": "stream",
       "stream": "stdout",
       "text": [
        "[  1.68444195e+01  -1.81966889e-01   7.17561225e+00   4.00995291e-02\n",
        "   6.78423637e+00  -1.13725395e-02   2.21363481e+00   1.84362273e-02\n",
        "   2.70777628e+00  -1.60658358e-02   1.30820081e+01  -2.02306191e-02\n",
        "   1.28913256e+01]\n"
       ]
      },
      {
       "metadata": {},
       "output_type": "display_data",
       "png": "[encoded data removed]",
       "text": [
        "<matplotlib.figure.Figure at 0x5279e10>"
       ]
      }
     ],
     "prompt_number": 57
    },
    {
     "cell_type": "code",
     "collapsed": false,
     "input": [],
     "language": "python",
     "metadata": {},
     "outputs": []
    }
   ],
   "metadata": {}
  }
 ]
}