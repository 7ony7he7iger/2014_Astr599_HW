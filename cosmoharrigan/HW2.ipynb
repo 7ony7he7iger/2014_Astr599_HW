{
 "metadata": {
  "name": "",
  "signature": "sha256:81ba368307e8d0b64713fe136de01aeec0641fddfca5efa77a7c2cd493350d4d"
 },
 "nbformat": 3,
 "nbformat_minor": 0,
 "worksheets": [
  {
   "cells": [
    {
     "cell_type": "code",
     "collapsed": false,
     "input": [
      "import numpy as np\n",
      "from __future__ import division"
     ],
     "language": "python",
     "metadata": {},
     "outputs": [],
     "prompt_number": 101
    },
    {
     "cell_type": "markdown",
     "metadata": {},
     "source": [
      "Create a function **func** for the function $f(x)=sin(x)$."
     ]
    },
    {
     "cell_type": "code",
     "collapsed": false,
     "input": [
      "def func(x):\n",
      "    \"\"\"Returns the sine of x\n",
      "    \n",
      "    Parameters\n",
      "    ----------\n",
      "    x : float (radians)\n",
      "    \"\"\"\n",
      "    return np.sin(x)"
     ],
     "language": "python",
     "metadata": {},
     "outputs": [],
     "prompt_number": 102
    },
    {
     "cell_type": "markdown",
     "metadata": {},
     "source": [
      "A template of the parent class integrator is provided. This class will have all the common functionality to integrate a function f in the interval [a,b]. However, the method of integration is not yet provided, nor is the integration function."
     ]
    },
    {
     "cell_type": "markdown",
     "metadata": {},
     "source": [
      "Add an additional function called <b> integrate(self,func) </b> inside the class Integrator, which calculates the integral from the weigths $w_i$: <b>self.weights</b> at different points x_i:<b>self.points</b>. Note this should be arrays. The integral is calculated as\n",
      "\n",
      "$$\n",
      "\\int_a^b f(x) dx = \\sum_{i=0}^{n-1} w_i f(x_i)\n",
      "$$"
     ]
    },
    {
     "cell_type": "code",
     "collapsed": false,
     "input": [
      "class Integrator:\n",
      "    def __init__(self, a, b, n):\n",
      "        \"\"\"Computes an approximation of the definite integral of a function\n",
      "        \n",
      "        Parameters\n",
      "        ----------\n",
      "        a : left side of interval\n",
      "        b : right side of interval\n",
      "        n : number of points used for approximation\n",
      "        \"\"\"\n",
      "        self.a, self.b, self.n = a, b, n\n",
      "        self.points, self.weights = self.method()\n",
      "        \n",
      "        #print \"points: {0}\\nweights: {1}\".format(self.points, self.weights)\n",
      "        \n",
      "    def integrate(self, func):\n",
      "        return np.sum(np.multiply(func(self.points), self.weights))\n",
      "        '''\n",
      "        sum = 0\n",
      "        for point, weight in zip(self.points, self.weights):\n",
      "            sum += point * weight\n",
      "        return sum\n",
      "        '''\n",
      "        \n",
      "    def method(self):\n",
      "        raise NotImplementedError('no rule in class %s' %self.__class__.__name__)"
     ],
     "language": "python",
     "metadata": {},
     "outputs": [],
     "prompt_number": 114
    },
    {
     "cell_type": "markdown",
     "metadata": {},
     "source": [
      "Create a child class of Integrator called <b> Trapezoidal</b>, where you define a function called <b>method(self)</b>.\n",
      "This function should return two arrays: <b> x </b> and <b> w </b> corresponding to the points and their current weights. This should be the values correponding to the trapezoidal rule for integration. If you are not familiar with it, you can look for it online"
     ]
    },
    {
     "cell_type": "code",
     "collapsed": false,
     "input": [
      "class Trapezoidal(Integrator):\n",
      "    def __init(self, *args):\n",
      "        super.__init__(*args)\n",
      "    def method(self):\n",
      "        x = np.linspace(self.a, self.b, num=self.n)\n",
      "        w = np.empty(self.n)\n",
      "        w.fill((self.b - self.a) / (self.n - 1))\n",
      "        return x, w\n",
      "        \n",
      "        '''\n",
      "        # for point in points - 1\n",
      "        # sum += point times distance plus (nextPoint - point) * distance / 2\n",
      "        # return array 'x' of points and array 'w' of their current weights\n",
      "        #(b-a)/2N * (point1 + lastPoint + 2 * (sum of all intermediate points))\n",
      "        \n",
      "        # each point i 0..n-1 is left side + i * (b-a)/N\n",
      "        step_size = (b - a) / (n - 1)\n",
      "        point = []\n",
      "        for i in range(0, n - 1):\n",
      "            point[i] = a + i * step_size\n",
      "            weight[i] = step_size\n",
      "        \n",
      "        # The points begin at a, and move along the x-axis by step_size n-1 times\n",
      "        \n",
      "        #iterable = (a + i * step_size for i in range(0, n - 1))\n",
      "        #x = np.fromiter(iterable, np.float)\n",
      "        #w = (b - a) / (n - 1)\n",
      "        '''\n",
      "        \n",
      "        "
     ],
     "language": "python",
     "metadata": {},
     "outputs": [],
     "prompt_number": 115
    },
    {
     "cell_type": "markdown",
     "metadata": {},
     "source": [
      "Create a child class of Integrator called <b> Midpoint</b>. It should do the same as <b> Trapezoidal</b> but employing the midpoint method for numerical integration."
     ]
    },
    {
     "cell_type": "code",
     "collapsed": false,
     "input": [],
     "language": "python",
     "metadata": {},
     "outputs": [],
     "prompt_number": 115
    },
    {
     "cell_type": "markdown",
     "metadata": {},
     "source": [
      "Create a separate function of x that plots\n",
      "$\n",
      "\\int_0^x sin(x) dx = 1 - cos(x),\n",
      "$\n",
      "using any of the two methods you developed."
     ]
    },
    {
     "cell_type": "code",
     "collapsed": false,
     "input": [
      "def plot_integral(x):\n",
      "    \"\"\"Plots the function $\\int_0^x sin(x) dx = 1 - cos(x)$,\n",
      "    using the trapezoidal method for numerical integration.\n",
      "    \n",
      "    Parameters\n",
      "    ----------\n",
      "    x : right side of interval\n",
      "    \"\"\"\n",
      "    integrator = Trapezoidal(0, x, 20000)\n",
      "    print(\"Integral is: {0}\".format(integrator.integrate(func)))"
     ],
     "language": "python",
     "metadata": {},
     "outputs": [],
     "prompt_number": 120
    },
    {
     "cell_type": "code",
     "collapsed": false,
     "input": [
      "plot_integral(1)"
     ],
     "language": "python",
     "metadata": {},
     "outputs": [
      {
       "output_type": "stream",
       "stream": "stdout",
       "text": [
        "Integral is: 0.459718731863\n"
       ]
      }
     ],
     "prompt_number": 121
    },
    {
     "cell_type": "code",
     "collapsed": false,
     "input": [],
     "language": "python",
     "metadata": {},
     "outputs": [],
     "prompt_number": 117
    },
    {
     "cell_type": "code",
     "collapsed": false,
     "input": [],
     "language": "python",
     "metadata": {},
     "outputs": []
    }
   ],
   "metadata": {}
  }
 ]
}